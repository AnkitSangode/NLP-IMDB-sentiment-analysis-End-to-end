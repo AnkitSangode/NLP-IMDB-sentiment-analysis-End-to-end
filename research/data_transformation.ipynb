{
 "cells": [
  {
   "cell_type": "code",
   "execution_count": 73,
   "id": "d79fa67a",
   "metadata": {},
   "outputs": [
    {
     "data": {
      "text/plain": [
       "'D:\\\\Python\\\\Industry level\\\\NLP\\\\NLP-IMDB-sentiment-analysis-End-to-end'"
      ]
     },
     "execution_count": 73,
     "metadata": {},
     "output_type": "execute_result"
    }
   ],
   "source": [
    "import os\n",
    "os.chdir(r'D:\\Python\\Industry level\\NLP\\NLP-IMDB-sentiment-analysis-End-to-end')\n",
    "%pwd\n"
   ]
  },
  {
   "cell_type": "code",
   "execution_count": 74,
   "id": "278284d0",
   "metadata": {},
   "outputs": [],
   "source": [
    "from dataclasses import dataclass\n",
    "from pathlib import Path\n",
    "\n",
    "@dataclass(frozen=True)\n",
    "class DataTransformationConfig:\n",
    "    root_dir: str\n",
    "    transformed_data_file: str\n",
    "    train_data_path: str\n",
    "    test_data_path: str\n",
    "    vectorizer_file: str"
   ]
  },
  {
   "cell_type": "code",
   "execution_count": 75,
   "id": "e61c8475",
   "metadata": {},
   "outputs": [],
   "source": [
    "from sentiment_analysis.constants import *\n",
    "from sentiment_analysis.utils.common import read_yaml, create_directories"
   ]
  },
  {
   "cell_type": "code",
   "execution_count": 76,
   "id": "04e57fe0",
   "metadata": {},
   "outputs": [],
   "source": [
    "class ConfigurationManager:\n",
    "    def __init__(\n",
    "            self,\n",
    "            config_filepath = CONFIG_FILEPATH\n",
    "    ):\n",
    "        self.config = read_yaml(config_filepath)\n",
    "\n",
    "        create_directories([self.config.artifacts_root])\n",
    "\n",
    "    def get_data_transformation_config(self) -> DataTransformationConfig:\n",
    "        config = self.config.data_transformation\n",
    "\n",
    "        create_directories([config.root_dir])\n",
    "\n",
    "        data_transformation_config = DataTransformationConfig(\n",
    "            root_dir= config.root_dir,\n",
    "            transformed_data_file= config.transformed_data_file,\n",
    "            train_data_path= config.train_data_path,\n",
    "            test_data_path=config.test_data_path,\n",
    "            vectorizer_file= config.vectorizer_file\n",
    "        )\n",
    "        return data_transformation_config"
   ]
  },
  {
   "cell_type": "code",
   "execution_count": 77,
   "id": "31411396",
   "metadata": {},
   "outputs": [
    {
     "name": "stdout",
     "output_type": "stream",
     "text": [
      "Requirement already satisfied: lxml in d:\\python\\industry level\\nlp\\nlp-imdb-sentiment-analysis-end-to-end\\sentiment\\lib\\site-packages (6.0.0)\n",
      "Note: you may need to restart the kernel to use updated packages.\n"
     ]
    },
    {
     "name": "stderr",
     "output_type": "stream",
     "text": [
      "[nltk_data] Downloading package punkt to\n",
      "[nltk_data]     C:\\Users\\Ankit\\AppData\\Roaming\\nltk_data...\n",
      "[nltk_data]   Package punkt is already up-to-date!\n",
      "[nltk_data] Downloading package stopwords to\n",
      "[nltk_data]     C:\\Users\\Ankit\\AppData\\Roaming\\nltk_data...\n",
      "[nltk_data]   Package stopwords is already up-to-date!\n",
      "[nltk_data] Downloading package wordnet to\n",
      "[nltk_data]     C:\\Users\\Ankit\\AppData\\Roaming\\nltk_data...\n",
      "[nltk_data]   Package wordnet is already up-to-date!\n"
     ]
    },
    {
     "data": {
      "text/plain": [
       "True"
      ]
     },
     "execution_count": 77,
     "metadata": {},
     "output_type": "execute_result"
    }
   ],
   "source": [
    "%pip install lxml\n",
    "\n",
    "from sklearn.model_selection import train_test_split\n",
    "from nltk.corpus import stopwords\n",
    "import pickle\n",
    "import nltk\n",
    "from nltk.stem import WordNetLemmatizer\n",
    "from sklearn.feature_extraction.text import TfidfVectorizer\n",
    "from nltk.tokenize import word_tokenize\n",
    "from bs4 import BeautifulSoup\n",
    "import re\n",
    "import pandas as pd\n",
    "\n",
    "\n",
    "nltk.download('punkt')\n",
    "nltk.download('stopwords')\n",
    "nltk.download('wordnet')"
   ]
  },
  {
   "cell_type": "code",
   "execution_count": 78,
   "id": "555ca5a7",
   "metadata": {},
   "outputs": [],
   "source": [
    "class DataTransformation:\n",
    "    def __init__(self,config: DataTransformationConfig):\n",
    "        self.config = config\n",
    "        self.stopwords = set(stopwords.words('english'))\n",
    "        self.lemmatizer = WordNetLemmatizer()\n",
    "        self.vectorizer = TfidfVectorizer(max_features=5000)\n",
    "\n",
    "\n",
    "    def preprocess_text(self,text):\n",
    "        if not isinstance(text, str):\n",
    "            return \"\"\n",
    "        text = BeautifulSoup(text, \"html.parser\").get_text()\n",
    "        text = re.sub(r'[^a-zA-Z\\s]', '', text.lower())\n",
    "        tokens = word_tokenize(text)\n",
    "        tokens = [self.lemmatizer.lemmatize(word) for word in tokens if word not in self.stopwords]\n",
    "        return ' '.join(tokens)\n",
    "    \n",
    "    def initiate_data_transformation(self, data_path: str):\n",
    "        df = pd.read_csv(data_path)\n",
    "\n",
    "        df['cleaned_review'] = df['review'].apply(self.preprocess_text)\n",
    "        df['word_count'] = df['cleaned_review'].apply(lambda x: len(x.split()))\n",
    "        df['char_count'] = df['cleaned_review'].apply(lambda x: len(x))\n",
    "        df['avg_word_length'] = df['char_count'] / df['word_count']\n",
    "\n",
    "        # Vectorize\n",
    "        X_tfidf = self.vectorizer.fit_transform(df['cleaned_review'])\n",
    "        tfidf_df = pd.DataFrame(X_tfidf.toarray(), columns=self.vectorizer.get_feature_names_out())\n",
    "        df = pd.concat([df[['sentiment']], tfidf_df], axis=1)  # Include target column + TF-IDF\n",
    "\n",
    "        # Save full cleaned data\n",
    "        df.to_csv(self.config.transformed_data_file, index=False)\n",
    "\n",
    "        # Train-test split\n",
    "        train_df, test_df = train_test_split(\n",
    "            df, \n",
    "            test_size=0.2, \n",
    "            random_state=42,\n",
    "            stratify=None  # Ensures balanced sentiment labels\n",
    "        )\n",
    "\n",
    "        train_df.to_csv(self.config.train_data_path, index=False)\n",
    "        test_df.to_csv(self.config.test_data_path, index=False)\n",
    "\n",
    "        # Save vectorizer\n",
    "        with open(self.config.vectorizer_file, 'wb') as f:\n",
    "            pickle.dump(self.vectorizer, f)"
   ]
  },
  {
   "cell_type": "code",
   "execution_count": 79,
   "id": "8e0e7602",
   "metadata": {},
   "outputs": [],
   "source": [
    "try:\n",
    "    config = ConfigurationManager()\n",
    "    data_transformation_config = config.get_data_transformation_config()\n",
    "    data_transformation = DataTransformation(config=data_transformation_config)\n",
    "    data_transformation.initiate_data_transformation('artifacts\\data_ingestion\\data_imdb.csv')\n",
    "except Exception as e:\n",
    "    raise e"
   ]
  }
 ],
 "metadata": {
  "language_info": {
   "name": "python"
  }
 },
 "nbformat": 4,
 "nbformat_minor": 5
}
