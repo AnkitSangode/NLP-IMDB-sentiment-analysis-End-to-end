{
 "cells": [
  {
   "cell_type": "code",
   "execution_count": 1,
   "id": "3ff41bd8",
   "metadata": {},
   "outputs": [
    {
     "data": {
      "text/plain": [
       "'d:\\\\Python\\\\Industry level\\\\NLP\\\\NLP-IMDB-sentiment-analysis-End-to-end'"
      ]
     },
     "execution_count": 1,
     "metadata": {},
     "output_type": "execute_result"
    }
   ],
   "source": [
    "import os\n",
    "os.chdir('../')\n",
    "%pwd"
   ]
  },
  {
   "cell_type": "code",
   "execution_count": 14,
   "id": "20b371e0",
   "metadata": {},
   "outputs": [],
   "source": [
    "import pandas as pd\n",
    "import zipfile  \n"
   ]
  },
  {
   "cell_type": "code",
   "execution_count": null,
   "id": "f8dabdf0",
   "metadata": {},
   "outputs": [],
   "source": [
    "zipfile"
   ]
  }
 ],
 "metadata": {
  "kernelspec": {
   "display_name": "sentiment",
   "language": "python",
   "name": "python3"
  },
  "language_info": {
   "codemirror_mode": {
    "name": "ipython",
    "version": 3
   },
   "file_extension": ".py",
   "mimetype": "text/x-python",
   "name": "python",
   "nbconvert_exporter": "python",
   "pygments_lexer": "ipython3",
   "version": "3.11.0"
  }
 },
 "nbformat": 4,
 "nbformat_minor": 5
}
