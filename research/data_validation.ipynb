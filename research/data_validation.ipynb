{
 "cells": [
  {
   "cell_type": "code",
   "execution_count": 73,
   "id": "6de87a99",
   "metadata": {},
   "outputs": [
    {
     "data": {
      "text/plain": [
       "'D:\\\\Python\\\\Industry level\\\\NLP'"
      ]
     },
     "execution_count": 73,
     "metadata": {},
     "output_type": "execute_result"
    }
   ],
   "source": [
    "import os\n",
    "os.chdir('../')\n",
    "%pwd"
   ]
  },
  {
   "cell_type": "code",
   "execution_count": 74,
   "id": "a26c7d5a",
   "metadata": {},
   "outputs": [],
   "source": [
    "from dataclasses import dataclass\n",
    "from pathlib import Path\n",
    "\n",
    "@dataclass(frozen=True)\n",
    "class DataValidationConfig:\n",
    "    root_dir: Path\n",
    "    status_file: str\n",
    "    datadata_file: Path"
   ]
  },
  {
   "cell_type": "code",
   "execution_count": 75,
   "id": "b9eb3a5c",
   "metadata": {},
   "outputs": [],
   "source": [
    "from sentiment_analysis.constants import *\n",
    "from sentiment_analysis.utils.common import read_yaml,create_directories"
   ]
  },
  {
   "cell_type": "code",
   "execution_count": 76,
   "id": "d49b94ed",
   "metadata": {},
   "outputs": [],
   "source": [
    "class ConfigurationManager:\n",
    "    def __init__(\n",
    "            self,\n",
    "            config_filepath = CONFIG_FILEPATH\n",
    "    ):\n",
    "        self.config = read_yaml(config_filepath)\n",
    "\n",
    "        create_directories([self.config.artifacts_root])\n",
    "\n",
    "    def get_data_validation_config(self)-> DataValidationConfig:\n",
    "        config = self.config.data_validation\n",
    "\n",
    "        create_directories([config.root_dir])\n",
    "\n",
    "        data_validation_config = DataValidationConfig(\n",
    "            root_dir= Path(config.root_dir),\n",
    "            status_file= config.status_file,\n",
    "            datadata_file= config.datadata_file\n",
    "        )\n",
    "\n",
    "        return data_validation_config"
   ]
  },
  {
   "cell_type": "code",
   "execution_count": 77,
   "id": "228b9379",
   "metadata": {},
   "outputs": [],
   "source": [
    "import pandas as pd\n",
    "from sentiment_analysis.logger.logger_setup import logger\n",
    "from sentiment_analysis.exception.customException import CustomException\n",
    "import sys"
   ]
  },
  {
   "cell_type": "code",
   "execution_count": 78,
   "id": "501d58c7",
   "metadata": {},
   "outputs": [],
   "source": [
    "class DataValidation:\n",
    "    def __init__(self,config: DataValidationConfig):\n",
    "        self.config = config\n",
    "\n",
    "    def validate(self):\n",
    "        if not os.path.exists(self.config.datadata_file):\n",
    "            raise FileNotFoundError(f\"Data file not found: {self.config.datadata_file}\")\n",
    "\n",
    "        df = pd.read_csv(self.config.datadata_file)\n",
    "\n",
    "        if df.empty:\n",
    "            raise ValueError(\"Data file is empty\")\n",
    "\n",
    "        required_columns = ['review', 'sentiment']\n",
    "        for col in required_columns:\n",
    "            if col not in df.columns:\n",
    "                raise ValueError(f\"Missing required column: {col}\")\n",
    "\n",
    "            missing_values = df.isnull().sum().any()\n",
    "            if missing_values > 0:\n",
    "                logger.info(\"Warning: Missing values found!\")\n",
    "\n",
    "            dup_count = df.duplicated().sum()\n",
    "            if dup_count > 0:\n",
    "                logger.info(f\"Warning: {df.duplicated().sum()} duplicate rows found!\")\n",
    "\n",
    "       \n",
    "        with open(self.config.status_file, \"w\") as f:\n",
    "            f.write(\"Data validation: PASSED\\n\")\n",
    "            f.write(f\"Missing values: {missing_values}\\n\")\n",
    "            f.write(f\"Duplicates removed: {dup_count}\\n\")\n",
    "            \n",
    "\n",
    "            logger.info(\"✅ Data validation passed.\")\n",
    "            return True\n",
    "        "
   ]
  },
  {
   "cell_type": "code",
   "execution_count": 79,
   "id": "3070762e",
   "metadata": {},
   "outputs": [
    {
     "data": {
      "text/plain": [
       "'D:\\\\Python\\\\Industry level\\\\NLP\\\\NLP-IMDB-sentiment-analysis-End-to-end'"
      ]
     },
     "execution_count": 79,
     "metadata": {},
     "output_type": "execute_result"
    }
   ],
   "source": [
    "os.chdir(r'D:\\Python\\Industry level\\NLP\\NLP-IMDB-sentiment-analysis-End-to-end')\n",
    "%pwd\n"
   ]
  },
  {
   "cell_type": "code",
   "execution_count": 80,
   "id": "1a736219",
   "metadata": {},
   "outputs": [],
   "source": [
    "try:\n",
    "    config = ConfigurationManager()\n",
    "    data_validation_config = config.get_data_validation_config()\n",
    "    data_validation = DataValidation(config = data_validation_config)\n",
    "    data_validation.validate()\n",
    "except CustomException as e:\n",
    "    raise CustomException(e,sys)"
   ]
  }
 ],
 "metadata": {
  "kernelspec": {
   "display_name": "sentiment",
   "language": "python",
   "name": "python3"
  },
  "language_info": {
   "codemirror_mode": {
    "name": "ipython",
    "version": 3
   },
   "file_extension": ".py",
   "mimetype": "text/x-python",
   "name": "python",
   "nbconvert_exporter": "python",
   "pygments_lexer": "ipython3",
   "version": "3.11.0"
  }
 },
 "nbformat": 4,
 "nbformat_minor": 5
}
